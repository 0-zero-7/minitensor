{
  "cells": [
    {
      "cell_type": "markdown",
      "metadata": {},
      "source": [
        "# Basic Minitensor Tutorial\n",
        "This notebook demonstrates core tensor operations and building a small neural network."
      ]
    },
    {
      "cell_type": "markdown",
      "metadata": {},
      "source": [
        "## Tensor Operations\n",
        "Create tensors and perform arithmetic with automatic differentiation."
      ]
    },
    {
      "cell_type": "code",
      "metadata": {},
      "execution_count": null,
      "outputs": [],
      "source": [
        "import minitensor as mt\n",
        "x = mt.tensor([[1.0, 2.0], [3.0, 4.0]], requires_grad=True)\n",
        "y = mt.tensor([[5.0, 6.0], [7.0, 8.0]])\n",
        "z = (x * y).sum()\n",
        "z.backward()\n",
        "x.grad\n"
      ]
    },
    {
      "cell_type": "markdown",
      "metadata": {},
      "source": [
        "## Dense Layers\n",
        "Define a small network using `DenseLayer` and compute a loss."
      ]
    },
    {
      "cell_type": "code",
      "metadata": {},
      "execution_count": null,
      "outputs": [],
      "source": [
        "from minitensor import nn\n",
        "\n",
        "# Simple model\n",
        "model = nn.Sequential([\n",
        "    nn.DenseLayer(3, 4),\n",
        "    nn.ReLU(),\n",
        "    nn.DenseLayer(4, 2)\n",
        "])\n",
        "\n",
        "# Dummy data\n",
        "inputs = mt.randn(5, 3, requires_grad=True)\n",
        "targets = mt.tensor([0, 1, 0, 1, 1])\n",
        "\n",
        "# Forward and loss\n",
        "criterion = nn.CrossEntropyLoss()\n",
        "outputs = model(inputs)\n",
        "loss = criterion(outputs, targets)\n",
        "loss.backward()\n",
        "\n",
        "loss, inputs.grad\n"
      ]
    }
  ],
  "metadata": {
    "kernelspec": {
      "display_name": "Python 3",
      "language": "python",
      "name": "python3"
    },
    "language_info": {
      "name": "python",
      "version": "3"
    }
  },
  "nbformat": 4,
  "nbformat_minor": 2
}